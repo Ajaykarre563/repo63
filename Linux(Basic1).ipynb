{
  "nbformat": 4,
  "nbformat_minor": 0,
  "metadata": {
    "colab": {
      "provenance": []
    },
    "kernelspec": {
      "name": "python3",
      "display_name": "Python 3"
    },
    "language_info": {
      "name": "python"
    }
  },
  "cells": [
    {
      "cell_type": "markdown",
      "source": [
        "# **what is mean by Linux**\n",
        "\n",
        "Linux is a free, open-source operating system that powers computers, servers, phones, and more. It’s like Windows or macOS but is customizable and widely used for different devices.\n"
      ],
      "metadata": {
        "id": "6ult7u5YGVmz"
      }
    },
    {
      "cell_type": "markdown",
      "source": [
        "**Key Features of Linux:**\n",
        "\n",
        "**Open Source:**\n",
        "        \n",
        "The source code is freely available for anyone to use, modify, and share.\n",
        "Developers can customize it to meet specific needs.\n",
        "\n",
        "**Free to Use:**\n",
        "        \n",
        "Most Linux distributions are free, unlike some proprietary systems like Windows or macOS.\n",
        "\n",
        "**Multi-User System:**\n",
        "        \n",
        "Multiple users can work on the same system without interfering with each other.\n",
        "\n",
        "**Secure:**\n",
        "        \n",
        "Strong file permissions and active development make it less vulnerable to viruses and malware.\n",
        "\n",
        "**Portable:**\n",
        "        \n",
        "It can run on a variety of hardware platforms, from PCs and phones to servers and IoT devices."
      ],
      "metadata": {
        "id": "c-f-QeSPHHQ9"
      }
    },
    {
      "cell_type": "markdown",
      "source": [
        "# **Why is Linux Important?**\n",
        "\n",
        "**Servers and the Internet:**\n",
        "        \n",
        "A majority of web servers (like those hosting websites) run Linux because it's stable, reliable, and efficient.\n",
        "\n",
        "**Customization:**\n",
        "        \n",
        "It can be tailored for specific tasks, like running a smart device or hosting a web application.\n",
        "\n",
        "**Learning and Community:**\n",
        "        \n",
        "It's a favorite among developers, hackers, and enthusiasts because of its flexibility and the large community support."
      ],
      "metadata": {
        "id": "O_R42g1dHs1v"
      }
    },
    {
      "cell_type": "markdown",
      "source": [
        "**Linux Components (Simplified):**\n",
        "\n",
        "**Kernel:**\n",
        "        \n",
        "The core of Linux, responsible for interacting with the hardware (CPU, memory, etc.).\n",
        "\n",
        "**Shell:**\n",
        "        \n",
        "A command-line interface that allows users to communicate with the system.\n",
        "\n",
        "**File System:**\n",
        "        \n",
        "Organizes and stores files in directories.\n",
        "\n",
        "**Applications:**\n",
        "        \n",
        "Software that runs on top of Linux, like browsers, text editors, or programming tools."
      ],
      "metadata": {
        "id": "Q6Ao_UQTID_p"
      }
    },
    {
      "cell_type": "markdown",
      "source": [
        "**Popular Linux Distributions (Distros):**\n",
        "\n",
        "**Linux comes in many \"flavors\" called distributions, each tailored for specific uses:**\n",
        "\n",
        "Ubuntu: Beginner-friendly, great for personal computers.\n",
        "\n",
        "Fedora: Cutting-edge, used for modern technologies.\n",
        "    \n",
        "Debian: Stable and widely used in servers.\n",
        "  \n",
        "Arch Linux: Minimal and customizable, preferred by advanced users.\n",
        "    \n",
        "Kali Linux: Specially designed for cybersecurity and ethical hacking.\n",
        "\n"
      ],
      "metadata": {
        "id": "NEy_36bUJYgt"
      }
    },
    {
      "cell_type": "markdown",
      "source": [
        "**How is Linux Used?**\n",
        "\n",
        "Personal Computers: Alternatives to Windows or macOS.\n",
        "    \n",
        "Servers: Powering websites, cloud services, and applications.\n",
        "    \n",
        "Programming and Development: A favorite environment for developers.\n",
        "    \n",
        "Cybersecurity: Testing networks and securing systems.\n",
        "    \n",
        "Embedded Systems: Found in devices like smart TVs, cars, and routers."
      ],
      "metadata": {
        "id": "Fzoc8EvFKLrS"
      }
    },
    {
      "cell_type": "markdown",
      "source": [
        "# **Why Choose Linux?**\n",
        "\n",
        "Cost-Effective: No licensing fees.\n",
        "    \n",
        "Control: Complete customization of your system.\n",
        "    \n",
        "Community Support: Endless resources, forums, and help guides.\n",
        "    \n",
        "Performance: Efficient even on older hardware."
      ],
      "metadata": {
        "id": "AicMPyjHKaR9"
      }
    },
    {
      "cell_type": "markdown",
      "source": [
        "**Linux in Real Life:**\n",
        "\n",
        "If you've used Android phones, you're indirectly using Linux because Android is built on the Linux kernel.\n",
        "    \n",
        "Major companies like Google, Amazon, and Facebook rely on Linux for their servers.\n",
        "\n"
      ],
      "metadata": {
        "id": "YyzI8cMJKl-Y"
      }
    },
    {
      "cell_type": "markdown",
      "source": [
        "# **Basic Commands**\n",
        "\n",
        "ls - Lists files and directories in the current directory.\n",
        "\n",
        "cd - Changes the current working directory.\n",
        "\n",
        "pwd - Displays the current directory path.\n",
        "\n",
        "mkdir - Creates a new directory.\n",
        "\n",
        "rmdir - Removes an empty directory.\n",
        "\n",
        "rm - Deletes files or directories.\n",
        "\n",
        "cp - Copies files or directories.\n",
        "\n",
        "mv - Moves or renames files and directories.\n",
        "    \n",
        "touch - Creates an empty file.\n",
        "    \n",
        "cat - Displays the contents of a file."
      ],
      "metadata": {
        "id": "o7Fs17bLLP5E"
      }
    },
    {
      "cell_type": "markdown",
      "source": [
        "# **User Management**\n",
        "\n",
        "whoami - Displays the current username.\n",
        "\n",
        "id - Displays user and group IDs.\n",
        "\n",
        "who - Shows currently logged-in users.\n",
        "\n",
        "adduser - Creates a new user.\n",
        "\n",
        "passwd - Changes the user password.\n",
        "\n",
        "usermod - Modifies a user account.\n",
        "\n",
        "deluser - Deletes a user account.\n",
        "\n",
        "groups - Lists the groups a user belongs to.\n",
        "\n",
        "su - Switches to another user account.\n",
        "\n",
        "sudo - Executes commands with administrator privileges."
      ],
      "metadata": {
        "id": "GzlDbNhuM_6b"
      }
    },
    {
      "cell_type": "markdown",
      "source": [
        "# **Permissions and Ownership**\n",
        "\n",
        "chmod - Changes file permissions.\n",
        "\n",
        "chown - Changes file owner or group.\n",
        "\n",
        "umask - Sets default permissions for newly created files.\n",
        "\n",
        "ls -l - Displays detailed file permissions and ownership.\n",
        "\n",
        "getfacl - Shows Access Control Lists (ACL) for files.\n",
        "\n",
        "setfacl - Sets ACL for files."
      ],
      "metadata": {
        "id": "rENwt88qNSl4"
      }
    },
    {
      "cell_type": "markdown",
      "source": [
        "# **Networking**\n",
        "\n",
        "ping - Checks connectivity to a host.\n",
        "\n",
        "ifconfig - Displays or configures network interfaces.\n",
        "\n",
        "ip - Manages IP addresses and routes.  \n",
        "\n",
        "netstat - Displays network connections.\n",
        "    \n",
        "curl - Transfers data from or to a server.\n",
        "\n",
        "wget - Downloads files from the web.\n",
        "\n",
        "scp - Securely copies files between systems.\n",
        "\n",
        "ssh - Connects to a remote server via SSH.\n",
        "    \n",
        "ftp - Transfers files via FTP.\n",
        "    \n",
        "nslookup - Queries DNS records.\n",
        "    \n",
        "traceroute - Tracks the route packets take to a host.\n",
        "    \n",
        "netcat - Debugs and monitors network connections.\n",
        "\n"
      ],
      "metadata": {
        "id": "l8jdpe3-NjDs"
      }
    },
    {
      "cell_type": "markdown",
      "source": [
        "# **Disk and Storage**\n",
        "\n",
        "df - Shows disk space usage.\n",
        "\n",
        "du - Displays directory and file sizes.\n",
        "\n",
        "mount - Mounts a filesystem.\n",
        "\n",
        "umount - Unmounts a filesystem.\n",
        "\n",
        "fdisk - Manages disk partitions.\n",
        "\n",
        "mkfs - Formats a filesystem.\n",
        "\n",
        "blkid - Displays block device information.\n",
        "\n",
        "lsblk - Lists information about block devices.\n",
        "\n",
        "parted - Edits partition tables.\n",
        "\n",
        "tune2fs - Adjusts filesystem parameters.\n"
      ],
      "metadata": {
        "id": "zI0Jo1HOOYdY"
      }
    },
    {
      "cell_type": "markdown",
      "source": [
        "# **System Monitoring**\n",
        "\n",
        "top - Displays real-time system processes.\n",
        "    \n",
        "htop - Enhanced version of top with an interactive interface.\n",
        "    \n",
        "ps - Displays currently running processes.\n",
        "    \n",
        "free - Shows memory usage.\n",
        "    \n",
        "uptime - Displays system uptime and load.\n",
        "    \n",
        "dmesg - Shows kernel messages.\n",
        "    \n",
        "vmstat - Displays system performance statistics.\n",
        "    \n",
        "iostat - Reports CPU and I/O statistics.\n",
        "    \n",
        "sar - Collects and displays system activity data."
      ],
      "metadata": {
        "id": "lX-tBWlUOpp1"
      }
    },
    {
      "cell_type": "markdown",
      "source": [
        "# **Package Management (Ubuntu/Debian)**\n",
        "\n",
        "apt-get - Installs, updates, or removes packages.\n",
        "    \n",
        "apt - Modern alternative to apt-get.\n",
        "    \n",
        "dpkg - Manages Debian package files.\n",
        "    \n",
        "snap - Installs and manages snap packages.\n",
        "    \n",
        "apt-cache - Searches for packages."
      ],
      "metadata": {
        "id": "RlWp-neiPG30"
      }
    },
    {
      "cell_type": "markdown",
      "source": [
        "# **Archiving and Compression**\n",
        "\n",
        "tar - Archives files into a tarball.\n",
        "    \n",
        "zip - Compresses files into a .zip archive.\n",
        "    \n",
        "unzip - Extracts files from a .zip archive.\n",
        "    \n",
        "gzip - Compresses files using gzip.\n",
        "    \n",
        "gunzip - Decompresses gzip files.\n",
        "    \n",
        "xz - Compresses files using xz.\n",
        "    \n",
        "7z - Compresses or extracts 7z archives."
      ],
      "metadata": {
        "id": "gU1flkmGPU8u"
      }
    },
    {
      "cell_type": "markdown",
      "source": [
        "# **Search Utilities**\n",
        "\n",
        "grep - Searches for patterns in files.\n",
        "    \n",
        "egrep - Extended version of grep.\n",
        "    \n",
        "awk - Processes text files and extracts data.\n",
        "    \n",
        "sed - Edits text in a file non-interactively.\n",
        "    \n",
        "cut - Extracts sections of text from files.\n",
        "    \n",
        "sort - Sorts lines in files.\n",
        "    \n",
        "uniq - Filters out duplicate lines."
      ],
      "metadata": {
        "id": "jCeqJltMPgby"
      }
    },
    {
      "cell_type": "markdown",
      "source": [
        "# **System Management**\n",
        "\n",
        "reboot - Restarts the system.\n",
        "\n",
        "shutdown - Powers off the system.\n",
        "\n",
        "systemctl - Manages system services.\n",
        "\n",
        "service - Controls system services (older systems).\n",
        "\n",
        "cron - Schedules recurring tasks.\n",
        "\n",
        "kill - Terminates processes by ID.\n",
        "\n",
        "killall - Terminates all processes by name.\n",
        "\n",
        "jobs - Lists active background jobs.\n",
        "\n",
        "fg - Brings a background job to the foreground.\n",
        "\n",
        "bg - Resumes a suspended job in the background"
      ],
      "metadata": {
        "id": "ufxzL2N9Pz8_"
      }
    },
    {
      "cell_type": "markdown",
      "source": [
        "# **Development Tools**\n",
        "\n",
        "gcc - Compiles C programs.\n",
        "\n",
        "make - Automates the build process.\n",
        "\n",
        "git - Manages source code with version control.\n",
        "\n",
        "python - Executes Python scripts."
      ],
      "metadata": {
        "id": "b6LaPUm8QDjW"
      }
    },
    {
      "cell_type": "markdown",
      "source": [
        "# **System Information**\n",
        "\n",
        "uname - Displays system information.\n",
        "\n",
        "hostname - Displays or sets the system hostname.\n",
        "\n",
        "uptime - Shows how long the system has been running.\n",
        "\n",
        "lsb_release - Displays Linux distribution information.\n",
        "\n",
        "arch - Displays the system architecture.\n",
        "\n",
        "vmstat - Shows system performance statistics.\n",
        "\n",
        "iostat - Displays CPU and I/O statistics.\n",
        "\n",
        "mpstat - Displays CPU usage statistics.\n",
        "\n",
        "uptime - Shows system load averages.\n",
        "\n",
        "free - Displays memory usage."
      ],
      "metadata": {
        "id": "okgFsyxnRdav"
      }
    },
    {
      "cell_type": "markdown",
      "source": [
        "# **Advanced File Management**\n",
        "\n",
        "basename - Extracts the filename from a path.\n",
        "    \n",
        "dirname - Extracts the directory path from a file path.\n",
        "    \n",
        "split - Splits a large file into smaller pieces.\n",
        "    \n",
        "cmp - Compares two files byte by byte.\n",
        "    \n",
        "diff - Displays differences between two files.\n",
        "    \n",
        "comm - Compares two sorted files line by line.\n",
        "    \n",
        "sort - Sorts lines in a file.\n",
        "    \n",
        "uniq - Filters unique lines in a file.\n",
        "    \n",
        "tee - Saves output to a file and displays it on the terminal.\n",
        "    \n",
        "shred - Securely deletes files by overwriting them."
      ],
      "metadata": {
        "id": "ykr8swsoR2Rt"
      }
    },
    {
      "cell_type": "markdown",
      "source": [
        "# **Shell Scripting and Automation**"
      ],
      "metadata": {
        "id": "ND5ERq-9SJHn"
      }
    },
    {
      "cell_type": "markdown",
      "source": [
        "echo - Outputs text to the terminal or a file.\n",
        "    \n",
        "read - Reads input from the user.\n",
        "    \n",
        "export - Sets environment variables.\n",
        "    \n",
        "alias - Creates shortcuts for commands.\n",
        "    \n",
        "unalias - Removes an alias.\n",
        "    \n",
        "trap - Captures signals in scripts.\n",
        "    \n",
        "source - Executes commands from a script in the current shell.\n",
        "    \n",
        "sleep - Pauses for a specified amount of time.\n",
        "    \n",
        "wait - Waits for background processes to complete.\n",
        "    \n",
        "jobs - Displays active background tasks.\n",
        "\n"
      ],
      "metadata": {
        "id": "2_0BnvypSNrP"
      }
    },
    {
      "cell_type": "markdown",
      "source": [
        "## **Process Management**\n",
        "\n",
        "pgrep - Finds processes by name.\n",
        "    \n",
        "pkill - Terminates processes by name.\n",
        "    \n",
        "nice - Starts a process with a specific priority.\n",
        "    \n",
        "renice - Changes the priority of a running process.\n",
        "    \n",
        "time - Measures the time a command takes to execute.\n",
        "    \n",
        "strace - Traces system calls made by a process.\n",
        "    \n",
        "lsof - Lists open files by processes.\n",
        "    \n",
        "atop - Monitors system performance.\n",
        "    \n",
        "iotop - Monitors I/O usage by processes.\n",
        "    \n",
        "uptime - Displays system uptime and load."
      ],
      "metadata": {
        "id": "YGNOXiA3SblX"
      }
    },
    {
      "cell_type": "markdown",
      "source": [
        "# **Disk and Filesystem Management**\n",
        "\n",
        "fsck - Checks and repairs filesystem errors.\n",
        "    \n",
        "e2fsck - Checks ext2/ext3/ext4 filesystems for errors.\n",
        "    \n",
        "mkfs - Formats a filesystem.\n",
        "    \n",
        "mount - Mounts a filesystem.\n",
        "    \n",
        "umount - Unmounts a filesystem.\n",
        "    \n",
        "df - Displays disk space usage.\n",
        "    \n",
        "du - Displays directory size.\n",
        "    \n",
        "partprobe - Informs the kernel about partition table changes.\n",
        "    \n",
        "sync - Flushes file system buffers.\n",
        "    \n",
        "quota - Displays disk usage and limits for users."
      ],
      "metadata": {
        "id": "CUnMYsfiSrS-"
      }
    },
    {
      "cell_type": "markdown",
      "source": [
        "# **Networking and Communication**\n",
        "arp - Displays or modifies the ARP table.\n",
        "    \n",
        "dig - Queries DNS information.\n",
        "    \n",
        "host - Resolves a hostname to an IP address.\n",
        "    \n",
        "telnet - Connects to a remote host using Telnet.\n",
        "    \n",
        "nmap - Scans networks and ports.\n",
        "    \n",
        "tcpdump - Captures network packets.\n",
        "    \n",
        "ip addr - Displays network interface information.\n",
        "    \n",
        "ip route - Displays or modifies routing tables.\n",
        "    \n",
        "ss - Displays socket statistics.\n",
        "    \n",
        "nmcli - Manages network connections."
      ],
      "metadata": {
        "id": "zDVnptjwTWwP"
      }
    },
    {
      "cell_type": "markdown",
      "source": [
        "# **Users and Groups**\n",
        "\n",
        "groupadd - Creates a new group.\n",
        "    \n",
        "groupdel - Deletes a group.\n",
        "    \n",
        "groupmod - Modifies a group.\n",
        "    \n",
        "finger - Displays information about users.\n",
        "    \n",
        "last - Shows the last login information.\n",
        "    \n",
        "who - Displays currently logged-in users.\n",
        "   \n",
        "w - Displays logged-in users and their activities.\n",
        "    \n",
        "logout - Logs out the current session.\n",
        "    \n",
        "whoami - Displays the current username.\n",
        "    \n",
        "id - Displays user and group IDs."
      ],
      "metadata": {
        "id": "5Bb6qexrTvNE"
      }
    },
    {
      "cell_type": "markdown",
      "source": [
        "# **Package Management (RPM/RedHat)**"
      ],
      "metadata": {
        "id": "mWSdXGdUUUs2"
      }
    },
    {
      "cell_type": "markdown",
      "source": [
        "yum - Installs, updates, and removes packages.\n",
        "\n",
        "\n",
        "dnf - Modern alternative to yum.\n",
        "\n",
        "rpm - Manages RPM packages.\n",
        "\n",
        "zypper - Package manager for SUSE Linux.\n",
        "\n",
        "dnf list - Lists available packages."
      ],
      "metadata": {
        "id": "08HLgOpLUawz"
      }
    },
    {
      "cell_type": "markdown",
      "source": [
        "## **security**\n",
        "\n",
        "    chmod - Changes file permissions.\n",
        "    chown - Changes file ownership.\n",
        "    passwd - Changes a user's password.\n",
        "    gpasswd - Administers /etc/group.\n",
        "    sudo - Executes commands with superuser privileges.\n",
        "    iptables - Configures firewall rules.\n",
        "    ufw - User-friendly firewall management.\n",
        "    selinux - Configures SELinux policies.\n",
        "    auditctl - Manages audit framework rules.\n",
        "    fail2ban - Protects against brute-force attacks.\n",
        "\n",
        "# **Logs and Debugging**\n",
        "\n",
        "    journalctl - Views system logs.\n",
        "    dmesg - Displays kernel messages.\n",
        "    logrotate - Manages log file rotation.\n",
        "    rsyslog - Relays system log events.\n",
        "    tail -f - Follows log files in real-time.\n",
        "    grep - Searches logs for specific text.\n",
        "    awk - Filters log data.\n",
        "    strace - Debugs programs by tracing system calls.\n",
        "    gdb - Debugs applications.\n",
        "    lsof - Lists files opened by processes.\n",
        "\n",
        "# **Archiving and Compression (Advanced)**\n",
        "\n",
        "    bzip2 - Compresses files using bzip2.\n",
        "    bunzip2 - Decompresses bzip2 files.\n",
        "    xz - Compresses files using xz.\n",
        "    unxz - Decompresses xz files.\n",
        "    p7zip - Archives and compresses files in 7z format.\n",
        "\n",
        "# **Development and Programming**\n",
        "\n",
        "    gcc - Compiles C programs.\n",
        "    g++ - Compiles C++ programs.\n",
        "    java - Runs Java programs.\n",
        "    javac - Compiles Java programs.\n",
        "    python3 - Executes Python scripts.\n",
        "    ruby - Executes Ruby scripts.\n",
        "    perl - Executes Perl scripts.\n",
        "    node - Executes Node.js scripts.\n",
        "    npm - Installs Node.js packages.\n",
        "    make - Automates build processes."
      ],
      "metadata": {
        "id": "wM_7IBJSU0HM"
      }
    },
    {
      "cell_type": "code",
      "execution_count": null,
      "metadata": {
        "id": "7vXjUkubGEMx"
      },
      "outputs": [],
      "source": []
    }
  ]
}