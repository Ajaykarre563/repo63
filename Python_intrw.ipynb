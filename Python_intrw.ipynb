{
  "nbformat": 4,
  "nbformat_minor": 0,
  "metadata": {
    "colab": {
      "provenance": []
    },
    "kernelspec": {
      "name": "python3",
      "display_name": "Python 3"
    },
    "language_info": {
      "name": "python"
    }
  },
  "cells": [
    {
      "cell_type": "markdown",
      "source": [
        "**Find the maximum element in an array**"
      ],
      "metadata": {
        "id": "0WnIIbyhO2Lp"
      }
    },
    {
      "cell_type": "code",
      "execution_count": null,
      "metadata": {
        "colab": {
          "base_uri": "https://localhost:8080/"
        },
        "id": "vYRdy40wOxGs",
        "outputId": "0272e5ae-d092-4967-ca26-4dbfaa82780a"
      },
      "outputs": [
        {
          "output_type": "stream",
          "name": "stdout",
          "text": [
            "Enter numbers separated by space: 23 4 64 21\n",
            "Maximum element: 64\n"
          ]
        }
      ],
      "source": [
        "def find_maximum(arr):\n",
        "    max_element = arr[0]\n",
        "    for num in arr:\n",
        "        if num > max_element:\n",
        "            max_element = num\n",
        "    return max_element\n",
        "\n",
        "# Input\n",
        "arr = list(map(int, input(\"Enter numbers separated by space: \").split()))\n",
        "\n",
        "# Output\n",
        "print(\"Maximum element:\", find_maximum(arr))\n"
      ]
    },
    {
      "cell_type": "markdown",
      "source": [
        "**Find the Minimum Element in an Array**"
      ],
      "metadata": {
        "id": "Ff2UnUGJPO7q"
      }
    },
    {
      "cell_type": "code",
      "source": [
        "def find_minimum(arr):\n",
        "    min_element = arr[0]\n",
        "    for num in arr:\n",
        "        if num < min_element:\n",
        "            min_element = num\n",
        "    return min_element\n",
        "\n",
        "# Input\n",
        "arr = list(map(int, input(\"Enter numbers separated by space: \").split()))\n",
        "\n",
        "# Output\n",
        "print(\"Minimum element:\", find_minimum(arr))\n"
      ],
      "metadata": {
        "colab": {
          "base_uri": "https://localhost:8080/"
        },
        "id": "xVazTmv3PCGH",
        "outputId": "96bdd1a4-7b55-4e18-a872-f248cea73ab1"
      },
      "execution_count": null,
      "outputs": [
        {
          "output_type": "stream",
          "name": "stdout",
          "text": [
            "Enter numbers separated by space: 4 6 5 2 1\n",
            "Minimum element: 1\n"
          ]
        }
      ]
    },
    {
      "cell_type": "markdown",
      "source": [
        "**Reverse an Array**"
      ],
      "metadata": {
        "id": "h4XZ_ocpPbsg"
      }
    },
    {
      "cell_type": "code",
      "source": [
        "def reverse_array(arr):\n",
        "    reversed_arr = []\n",
        "    for i in range(len(arr) - 1, -1, -1):\n",
        "        reversed_arr.append(arr[i])\n",
        "    return reversed_arr\n",
        "\n",
        "# Input\n",
        "arr = list(map(int, input(\"Enter numbers separated by space: \").split()))\n",
        "\n",
        "# Output\n",
        "print(\"Reversed array:\", reverse_array(arr))\n"
      ],
      "metadata": {
        "colab": {
          "base_uri": "https://localhost:8080/"
        },
        "id": "TvMkmNY0PSus",
        "outputId": "ee55ea70-02fa-4b3f-8b2b-1166b386cc00"
      },
      "execution_count": null,
      "outputs": [
        {
          "output_type": "stream",
          "name": "stdout",
          "text": [
            "Enter numbers separated by space: 8 7 6 5 3 2\n",
            "Reversed array: [2, 3, 5, 6, 7, 8]\n"
          ]
        }
      ]
    },
    {
      "cell_type": "markdown",
      "source": [
        " **Check if an Array is Sorted**"
      ],
      "metadata": {
        "id": "LWqlce5hQMg6"
      }
    },
    {
      "cell_type": "code",
      "source": [
        "def is_sorted(arr):\n",
        "    for i in range(len(arr) - 1):\n",
        "        if arr[i] > arr[i + 1]:\n",
        "            return False\n",
        "    return True\n",
        "\n",
        "# Input\n",
        "arr = list(map(int, input(\"Enter numbers separated by space: \").split()))\n",
        "\n",
        "# Output\n",
        "print(\"Is the array sorted?\", is_sorted(arr))\n"
      ],
      "metadata": {
        "colab": {
          "base_uri": "https://localhost:8080/"
        },
        "id": "BCKpbYE6Pmnm",
        "outputId": "e46f8ae9-c2a5-49c9-9be4-0ee2fdf142d1"
      },
      "execution_count": null,
      "outputs": [
        {
          "output_type": "stream",
          "name": "stdout",
          "text": [
            "Enter numbers separated by space: 1 2 3 4 5\n",
            "Is the array sorted? True\n"
          ]
        }
      ]
    },
    {
      "cell_type": "markdown",
      "source": [
        "**Example 5: Find All Pairs with a Target Sum**"
      ],
      "metadata": {
        "id": "gObM8uOuQnGp"
      }
    },
    {
      "cell_type": "code",
      "source": [
        "def find_pairs(arr, target):\n",
        "    pairs = []\n",
        "    for i in range(len(arr)):\n",
        "        for j in range(i + 1, len(arr)):\n",
        "            if arr[i] + arr[j] == target:\n",
        "                pairs.append((arr[i], arr[j]))\n",
        "    return pairs\n",
        "\n",
        "# Input\n",
        "arr = list(map(int, input(\"Enter numbers separated by space: \").split()))\n",
        "target = int(input(\"Enter target sum: \"))\n",
        "\n",
        "# Output\n",
        "print(\"Pairs with target sum:\", find_pairs(arr, target))\n"
      ],
      "metadata": {
        "colab": {
          "base_uri": "https://localhost:8080/"
        },
        "id": "KGceJN5uQSqU",
        "outputId": "091bbdd7-156f-4ed4-800b-abc4140fdc73"
      },
      "execution_count": null,
      "outputs": [
        {
          "output_type": "stream",
          "name": "stdout",
          "text": [
            "Enter numbers separated by space: 7 6 5 4 3\n",
            "Enter target sum: 10\n",
            "Pairs with target sum: [(7, 3), (6, 4)]\n"
          ]
        }
      ]
    },
    {
      "cell_type": "markdown",
      "source": [
        "**Example 6:Check if a String is a Palindrome**"
      ],
      "metadata": {
        "id": "g38JKdPVRbUL"
      }
    },
    {
      "cell_type": "code",
      "source": [
        "s=input()\n",
        "w=s[::-1]\n",
        "if s==w:\n",
        "  print(\"palindrome\")\n",
        "else:\n",
        "  print(\"not palindrome\")"
      ],
      "metadata": {
        "colab": {
          "base_uri": "https://localhost:8080/"
        },
        "id": "shkjsN2Vf94S",
        "outputId": "5cf3fdba-2ace-481f-950f-dd4e86001f39"
      },
      "execution_count": null,
      "outputs": [
        {
          "output_type": "stream",
          "name": "stdout",
          "text": [
            "madam\n",
            "palindrome\n"
          ]
        }
      ]
    },
    {
      "cell_type": "markdown",
      "source": [
        "**Example 7: Count Vowels in a String**"
      ],
      "metadata": {
        "id": "8vPOHGMYRO1G"
      }
    },
    {
      "cell_type": "code",
      "source": [
        "def count_vowels(s):\n",
        "    vowels = 'aeiouAEIOU'\n",
        "    count = 0\n",
        "    for char in s:\n",
        "        if char in vowels:\n",
        "            count += 1\n",
        "    return count\n",
        "\n",
        "# Input\n",
        "s = input(\"Enter a string: \")\n",
        "\n",
        "# Output\n",
        "print(\"Number of vowels:\", count_vowels(s))\n"
      ],
      "metadata": {
        "colab": {
          "base_uri": "https://localhost:8080/"
        },
        "id": "6RYNnaX7QvFW",
        "outputId": "3322a5ad-f5fb-46a6-8fdd-51f8509176c3"
      },
      "execution_count": null,
      "outputs": [
        {
          "output_type": "stream",
          "name": "stdout",
          "text": [
            "Enter a string: aejay\n",
            "Number of vowels: 3\n"
          ]
        }
      ]
    },
    {
      "cell_type": "markdown",
      "source": [
        "**Example 8: Remove Duplicates from a String**"
      ],
      "metadata": {
        "id": "UCcDqgw9RuWq"
      }
    },
    {
      "cell_type": "code",
      "source": [
        "def remove_duplicates(s):\n",
        "    result = ''\n",
        "    for char in s:\n",
        "        if char not in result:\n",
        "            result += char\n",
        "    return result\n",
        "\n",
        "# Input\n",
        "s = input(\"Enter a string: \")\n",
        "\n",
        "# Output\n",
        "print(\"String without duplicates:\", remove_duplicates(s))\n"
      ],
      "metadata": {
        "colab": {
          "base_uri": "https://localhost:8080/"
        },
        "id": "5oIN8KdbRSaw",
        "outputId": "934ca9bd-f4d5-45d4-ec47-f85339d1e8aa"
      },
      "execution_count": null,
      "outputs": [
        {
          "output_type": "stream",
          "name": "stdout",
          "text": [
            "Enter a string: ajay\n",
            "String without duplicates: ajy\n"
          ]
        }
      ]
    },
    {
      "cell_type": "markdown",
      "source": [
        "**Example 9: Find the Missing Number in an Array**"
      ],
      "metadata": {
        "id": "q_k_phlnR_0r"
      }
    },
    {
      "cell_type": "code",
      "source": [
        "def find_missing_number(arr, n):\n",
        "    # Step 1: Calculate the expected sum of numbers from 1 to n\n",
        "    expected_sum = 0\n",
        "    for i in range(1, n + 1):\n",
        "        expected_sum += i\n",
        "\n",
        "    # Step 2: Calculate the actual sum of array elements\n",
        "    actual_sum = 0\n",
        "    for num in arr:\n",
        "        actual_sum += num\n",
        "\n",
        "    # Step 3: Find the missing number\n",
        "    missing_number = expected_sum - actual_sum\n",
        "    return missing_number\n",
        "\n",
        "# Example Usage\n",
        "arr = [1, 2, 4, 5, 6]  # Missing number is 3\n",
        "n = 6  # The range is from 1 to 6\n",
        "print(\"Missing Number:\", find_missing_number(arr, n))\n"
      ],
      "metadata": {
        "colab": {
          "base_uri": "https://localhost:8080/"
        },
        "id": "lEbGlKdx0QYF",
        "outputId": "ced8b0ce-9892-4896-ec80-9f2f388ffc1a"
      },
      "execution_count": null,
      "outputs": [
        {
          "output_type": "stream",
          "name": "stdout",
          "text": [
            "Missing Number: 3\n"
          ]
        }
      ]
    },
    {
      "cell_type": "markdown",
      "source": [
        "**Example 10: Find the Second Largest Element in an Array**"
      ],
      "metadata": {
        "id": "BDsue1drSJOz"
      }
    },
    {
      "cell_type": "code",
      "source": [
        "arr = list(map(int, input(\"Enter elements: \").split()))\n",
        "\n",
        "# Bubble Sort in Descending Order\n",
        "for i in range(len(arr)):\n",
        "    for j in range(i + 1, len(arr)):\n",
        "        if arr[i] < arr[j]:\n",
        "            arr[i], arr[j] = arr[j], arr[i]\n",
        "\n",
        "# Check if the array has at least three elements\n",
        "if len(arr) < 2:\n",
        "    print(\"The array has fewer than 2 elements.\")\n",
        "else:\n",
        "    print(\"The third largest element is:\", arr[1])\n"
      ],
      "metadata": {
        "colab": {
          "base_uri": "https://localhost:8080/"
        },
        "id": "k8bCKQr52NsK",
        "outputId": "523dcd9e-2d0a-496c-b65c-5c4c3475868d"
      },
      "execution_count": null,
      "outputs": [
        {
          "output_type": "stream",
          "name": "stdout",
          "text": [
            "Enter elements: 8 7 6 5 11 10 3 4\n",
            "The third largest element is: 10\n"
          ]
        }
      ]
    },
    {
      "cell_type": "markdown",
      "source": [
        "**Example 11: Rotate an Array Left by K Steps**"
      ],
      "metadata": {
        "id": "BafENBJCSSk6"
      }
    },
    {
      "cell_type": "code",
      "source": [
        "def rotate_left(arr, k):\n",
        "    k = k%len(arr)\n",
        "    result = []\n",
        "    for i in range(k, len(arr)):\n",
        "        result.append(arr[i])\n",
        "    for i in range(k):\n",
        "        result.append(arr[i])\n",
        "    return result\n",
        "\n",
        "# Input\n",
        "arr = list(map(int, input(\"Enter numbers separated by space: \").split()))\n",
        "k = int(input(\"Enter number of rotations: \"))\n",
        "\n",
        "# Output\n",
        "print(\"Rotated array:\", rotate_left(arr, k))\n"
      ],
      "metadata": {
        "colab": {
          "base_uri": "https://localhost:8080/"
        },
        "id": "WO_qS0IlR0gQ",
        "outputId": "c589e673-b054-4fd5-b38d-9f750aa5206f"
      },
      "execution_count": null,
      "outputs": [
        {
          "output_type": "stream",
          "name": "stdout",
          "text": [
            "Enter numbers separated by space: 8 7 6 5 11 10 3 4\n",
            "Enter number of rotations: 6\n",
            "Rotated array: [3, 4, 8, 7, 6, 5, 11, 10]\n"
          ]
        }
      ]
    },
    {
      "cell_type": "markdown",
      "source": [
        "**Example 12: Count Frequency of Elements in an Array**"
      ],
      "metadata": {
        "id": "yGsTaXJ5TAYQ"
      }
    },
    {
      "cell_type": "code",
      "source": [
        "def count_frequency(arr):\n",
        "    frequency = {}\n",
        "    for num in arr:\n",
        "        if num in frequency:\n",
        "            frequency[num] += 1\n",
        "        else:\n",
        "            frequency[num] = 1\n",
        "    return frequency\n",
        "\n",
        "# Input\n",
        "arr = list(map(int, input(\"Enter numbers separated by space: \").split()))\n",
        "\n",
        "# Output\n",
        "print(\"Element frequencies:\", count_frequency(arr))\n"
      ],
      "metadata": {
        "colab": {
          "base_uri": "https://localhost:8080/"
        },
        "id": "DQVPr3y4SWSD",
        "outputId": "3551850d-60cd-4221-daf6-08c9fdae7abd"
      },
      "execution_count": null,
      "outputs": [
        {
          "output_type": "stream",
          "name": "stdout",
          "text": [
            "Enter numbers separated by space: 4 3 2 3 4 6 7\n",
            "Element frequencies: {4: 2, 3: 2, 2: 1, 6: 1, 7: 1}\n"
          ]
        }
      ]
    },
    {
      "cell_type": "markdown",
      "source": [
        "**Example 13: Find Factorial of a Number**"
      ],
      "metadata": {
        "id": "zrUPauneTPaN"
      }
    },
    {
      "cell_type": "code",
      "source": [
        "def factorial(n):\n",
        "    result = 1\n",
        "    for i in range(2, n + 1):\n",
        "        result = result*i\n",
        "    return result\n",
        "\n",
        "# Input\n",
        "n = int(input(\"Enter a number: \"))\n",
        "\n",
        "# Output\n",
        "print(\"Factorial:\", factorial(n))\n"
      ],
      "metadata": {
        "colab": {
          "base_uri": "https://localhost:8080/"
        },
        "id": "ky6SrrkmTEzy",
        "outputId": "25175cfb-d858-4e49-fa42-8ec8271e94a7"
      },
      "execution_count": null,
      "outputs": [
        {
          "output_type": "stream",
          "name": "stdout",
          "text": [
            "Enter a number: 5\n",
            "Factorial: 120\n"
          ]
        }
      ]
    },
    {
      "cell_type": "markdown",
      "source": [
        "**Example 14: Check if a Number is Armstrong**"
      ],
      "metadata": {
        "id": "qp1dnY_RWAc2"
      }
    },
    {
      "cell_type": "code",
      "source": [
        "# Python program to check if the number is an Armstrong number or not\n",
        "\n",
        "# take input from the user\n",
        "num = int(input(\"Enter a number: \"))\n",
        "\n",
        "# initialize sum\n",
        "sum = 0\n",
        "\n",
        "# find the sum of the cube of each digit\n",
        "temp = num\n",
        "while temp > 0:\n",
        "   digit = temp % 10\n",
        "   sum += digit ** 3\n",
        "   temp //= 10\n",
        "\n",
        "# display the result\n",
        "if num == sum:\n",
        "   print(num,\"is an Armstrong number\")\n",
        "else:\n",
        "   print(num,\"is not an Armstrong number\")\n"
      ],
      "metadata": {
        "id": "1mTYUcFx5paN",
        "outputId": "7006c312-e938-44e0-dd3b-51b8e299aa95",
        "colab": {
          "base_uri": "https://localhost:8080/"
        }
      },
      "execution_count": null,
      "outputs": [
        {
          "output_type": "stream",
          "name": "stdout",
          "text": [
            "Enter a number: 153\n",
            "153 is an Armstrong number\n"
          ]
        }
      ]
    },
    {
      "cell_type": "markdown",
      "source": [
        "**Example 15: Generate Fibonacci Sequence up to N Terms**"
      ],
      "metadata": {
        "id": "O-GXwBGHWIhT"
      }
    },
    {
      "cell_type": "code",
      "source": [
        "def generate_fibonacci(n):\n",
        "    if n <= 0:\n",
        "        return []\n",
        "    if n == 1:\n",
        "        return [0]\n",
        "    sequence = [0, 1]\n",
        "    for i in range(2, n):\n",
        "        sequence.append(sequence[i - 1] + sequence[i - 2])\n",
        "    return sequence\n",
        "\n",
        "# Input\n",
        "n = int(input(\"Enter the number of terms: \"))\n",
        "\n",
        "# Output\n",
        "print(\"Fibonacci sequence:\", generate_fibonacci(n))\n"
      ],
      "metadata": {
        "colab": {
          "base_uri": "https://localhost:8080/"
        },
        "id": "Hfjd4ObaTbBk",
        "outputId": "170747c1-8c3a-475e-db1f-ff4b78f44a3e"
      },
      "execution_count": null,
      "outputs": [
        {
          "output_type": "stream",
          "name": "stdout",
          "text": [
            "Enter the number of terms: 1\n",
            "Fibonacci sequence: [0]\n"
          ]
        }
      ]
    },
    {
      "cell_type": "markdown",
      "source": [
        "**Example 16:check if a number is  Prime Numbers or Not**"
      ],
      "metadata": {
        "id": "puPk2FLFWyI0"
      }
    },
    {
      "cell_type": "code",
      "source": [
        "def is_prime(num):\n",
        "    if num <= 1:\n",
        "        return False\n",
        "    for i in range(2, num):\n",
        "        if num % i == 0:\n",
        "            return False\n",
        "    return True\n",
        "\n",
        "num = int(input(\"Enter the start of the range: \"))\n",
        "res=is_prime(num)\n",
        "print(res)"
      ],
      "metadata": {
        "colab": {
          "base_uri": "https://localhost:8080/"
        },
        "id": "PAteJTzjWYSR",
        "outputId": "99b24955-db29-4a3a-a973-ade5ea75ad02"
      },
      "execution_count": null,
      "outputs": [
        {
          "output_type": "stream",
          "name": "stdout",
          "text": [
            "Enter the start of the range: 11\n",
            "True\n"
          ]
        }
      ]
    },
    {
      "cell_type": "markdown",
      "source": [
        "**Example 17: Find Prime Numbers in a Range**"
      ],
      "metadata": {
        "id": "WG7nH6YjXWCt"
      }
    },
    {
      "cell_type": "code",
      "source": [
        "def is_prime(num):\n",
        "    if num <= 1:\n",
        "        return False\n",
        "    for i in range(2, num):\n",
        "        if num % i == 0:\n",
        "            return False\n",
        "    return True\n",
        "\n",
        "def find_primes_in_range(start, end):\n",
        "    primes = []\n",
        "    for num in range(start, end + 1):\n",
        "        if is_prime(num):\n",
        "            primes.append(num)\n",
        "    return primes\n",
        "\n",
        "# Input\n",
        "start = int(input(\"Enter the start of the range: \"))\n",
        "end = int(input(\"Enter the end of the range: \"))\n",
        "\n",
        "# Output\n",
        "print(\"Prime numbers in range:\", find_primes_in_range(start, end))\n"
      ],
      "metadata": {
        "colab": {
          "base_uri": "https://localhost:8080/"
        },
        "id": "6lI-mCmMXLiC",
        "outputId": "e7de4879-fd94-4a83-9d0d-d8b0b035a9d5"
      },
      "execution_count": null,
      "outputs": [
        {
          "output_type": "stream",
          "name": "stdout",
          "text": [
            "Enter the start of the range: 2\n",
            "Enter the end of the range: 9\n",
            "Prime numbers in range: [2, 3, 5, 7]\n"
          ]
        }
      ]
    },
    {
      "cell_type": "markdown",
      "source": [
        "**Example 18: Bubble Sort**"
      ],
      "metadata": {
        "id": "n5cU-UhwXlbS"
      }
    },
    {
      "cell_type": "code",
      "source": [
        "def bubble_sort(arr):\n",
        "    for i in range(len(arr)):\n",
        "        for j in range(len(arr) - i - 1):\n",
        "            if arr[j] > arr[j + 1]:\n",
        "                arr[j], arr[j + 1] = arr[j + 1], arr[j]\n",
        "    return arr\n",
        "\n",
        "# Input\n",
        "arr = list(map(int, input(\"Enter numbers separated by space: \").split()))\n",
        "\n",
        "# Output\n",
        "print(\"Sorted array:\", bubble_sort(arr))\n"
      ],
      "metadata": {
        "colab": {
          "base_uri": "https://localhost:8080/"
        },
        "id": "F-49x7seXbtu",
        "outputId": "eb1706a2-d051-4318-d360-6e096d4579b4"
      },
      "execution_count": null,
      "outputs": [
        {
          "output_type": "stream",
          "name": "stdout",
          "text": [
            "Enter numbers separated by space: 6 7 5 4 2 9\n",
            "Sorted array: [2, 4, 5, 6, 7, 9]\n"
          ]
        }
      ]
    },
    {
      "cell_type": "markdown",
      "source": [
        "**Example 19: Check if Two Strings are Anagrams**"
      ],
      "metadata": {
        "id": "UGKqIra-YsSD"
      }
    },
    {
      "cell_type": "code",
      "source": [
        "def are_anagrams(str1, str2):\n",
        "    # Function to count the frequency of each character in a string\n",
        "    def count_characters(s):\n",
        "        char_count = {}\n",
        "        for char in s:\n",
        "            if char in char_count:\n",
        "                char_count[char] += 1\n",
        "            else:\n",
        "                char_count[char] = 1\n",
        "        return char_count\n",
        "\n",
        "    # Clean and count characters for both strings\n",
        "    char_count1 = count_characters(str1)\n",
        "    char_count2 = count_characters(str2)\n",
        "\n",
        "    # Compare character counts\n",
        "    return char_count1 == char_count2\n",
        "\n",
        "# Testing the function\n",
        "str1 = \"listen\"\n",
        "str2 = \"silent\"\n",
        "if are_anagrams(str1, str2):\n",
        "    print(f'\"{str1}\" and \"{str2}\" are anagrams.')\n",
        "else:\n",
        "    print(f'\"{str1}\" and \"{str2}\" are not anagrams.')\n"
      ],
      "metadata": {
        "colab": {
          "base_uri": "https://localhost:8080/"
        },
        "id": "KS0NHpIBXqty",
        "outputId": "6fb0e9dc-c258-45a8-c321-7f0729d77814"
      },
      "execution_count": null,
      "outputs": [
        {
          "output_type": "stream",
          "name": "stdout",
          "text": [
            "\"listen\" and \"silent\" are anagrams.\n"
          ]
        }
      ]
    },
    {
      "cell_type": "markdown",
      "source": [
        "**Example 20:write a program to find the target index of number(Linear search)**"
      ],
      "metadata": {
        "id": "_sVSJwF4Y_8S"
      }
    },
    {
      "cell_type": "code",
      "source": [
        "def linear_search(arr, target):\n",
        "    for i in range(len(arr)):\n",
        "        if arr[i] == target:\n",
        "            return i  # Return the index of the target element\n",
        "    return -1  # Return -1 if the target is not found\n",
        "\n",
        "# Input\n",
        "arr = list(map(int, input(\"Enter the array elements separated by space: \").split()))\n",
        "target = int(input(\"Enter the target element to search: \"))\n",
        "\n",
        "# Output\n",
        "result = linear_search(arr, target)\n",
        "if result != -1:\n",
        "    print(f\"Element found at index {result}\")\n",
        "else:\n",
        "    print(\"Element not found in the array\")\n"
      ],
      "metadata": {
        "colab": {
          "base_uri": "https://localhost:8080/"
        },
        "id": "4hX-vLNpYcJf",
        "outputId": "5cd0dc3f-197f-4826-d5b9-5d541c7f2991"
      },
      "execution_count": null,
      "outputs": [
        {
          "output_type": "stream",
          "name": "stdout",
          "text": [
            "Enter the array elements separated by space: 9 8 7 4 3 2 6\n",
            "Enter the target element to search: 4\n",
            "Element found at index 3\n"
          ]
        }
      ]
    },
    {
      "cell_type": "markdown",
      "source": [
        "**Find the Largest and Smallest Numbers in an Array**"
      ],
      "metadata": {
        "id": "nIqGG1v2E_Ht"
      }
    },
    {
      "cell_type": "code",
      "source": [
        "def find_largest_and_smallest(arr):\n",
        "    largest = arr[0]\n",
        "    smallest = arr[0]\n",
        "    for num in arr:\n",
        "        if num > largest:\n",
        "            largest = num\n",
        "        if num < smallest:\n",
        "            smallest = num\n",
        "    return largest, smallest\n",
        "\n",
        "# Input\n",
        "arr = list(map(int, input(\"Enter numbers separated by space: \").split()))\n",
        "largest, smallest = find_largest_and_smallest(arr)\n",
        "\n",
        "# Output\n",
        "print(f\"Largest: {largest}, Smallest: {smallest}\")\n"
      ],
      "metadata": {
        "colab": {
          "base_uri": "https://localhost:8080/"
        },
        "id": "HMjJGP35FAwq",
        "outputId": "276e32df-c90f-4015-a77a-b722a9baf160"
      },
      "execution_count": null,
      "outputs": [
        {
          "output_type": "stream",
          "name": "stdout",
          "text": [
            "Enter numbers separated by space: 6 5 4 3 2\n",
            "Largest: 6, Smallest: 2\n"
          ]
        }
      ]
    },
    {
      "cell_type": "markdown",
      "source": [
        "**Find the Frequency of an Element in an Array**"
      ],
      "metadata": {
        "id": "ErwUpdL1FQmv"
      }
    },
    {
      "cell_type": "code",
      "source": [
        "def find_frequency(arr, target):\n",
        "    count = 0\n",
        "    for num in arr:\n",
        "        if num == target:\n",
        "            count += 1\n",
        "    return count\n",
        "\n",
        "# Input\n",
        "arr = list(map(int, input(\"Enter numbers separated by space: \").split()))\n",
        "target = int(input(\"Enter the element to count frequency: \"))\n",
        "frequency = find_frequency(arr, target)\n",
        "\n",
        "# Output\n",
        "print(f\"Frequency of {target}: {frequency}\")\n"
      ],
      "metadata": {
        "colab": {
          "base_uri": "https://localhost:8080/"
        },
        "id": "1MX_-sADFCzg",
        "outputId": "844c6c89-3495-4bbe-8199-09783b35bfe2"
      },
      "execution_count": null,
      "outputs": [
        {
          "output_type": "stream",
          "name": "stdout",
          "text": [
            "Enter numbers separated by space: 7 6 5 4 7 3 2 7\n",
            "Enter the element to count frequency: 7\n",
            "Frequency of 7: 3\n"
          ]
        }
      ]
    },
    {
      "cell_type": "markdown",
      "source": [
        "**Find the Duplicates in an Array**"
      ],
      "metadata": {
        "id": "uHcZVj8rFyAl"
      }
    },
    {
      "cell_type": "code",
      "source": [
        "def find_duplicates(arr):\n",
        "    duplicates = []\n",
        "    for i in range(len(arr)):\n",
        "        for j in range(i + 1, len(arr)):\n",
        "            if arr[i] == arr[j] and arr[i] not in duplicates:\n",
        "                duplicates.append(arr[i])\n",
        "    return duplicates\n",
        "\n",
        "# Input\n",
        "arr = list(map(int, input(\"Enter numbers separated by space: \").split()))\n",
        "duplicates = find_duplicates(arr)\n",
        "\n",
        "# Output\n",
        "print(\"Duplicate elements:\", duplicates)\n"
      ],
      "metadata": {
        "colab": {
          "base_uri": "https://localhost:8080/"
        },
        "id": "SWDlveOIFVKd",
        "outputId": "56e6adcb-219d-4517-d472-5cde16c8a665"
      },
      "execution_count": null,
      "outputs": [
        {
          "output_type": "stream",
          "name": "stdout",
          "text": [
            "Enter numbers separated by space: 8 7 6 5 4 5\n",
            "Duplicate elements: [5]\n"
          ]
        }
      ]
    },
    {
      "cell_type": "markdown",
      "source": [
        "**Find the Intersection of Two Arrays**"
      ],
      "metadata": {
        "id": "M0Bre4jDGGzN"
      }
    },
    {
      "cell_type": "code",
      "source": [
        "def array_intersection(arr1, arr2):\n",
        "    intersection = []\n",
        "    for num in arr1:\n",
        "        if num in arr2 and num not in intersection:\n",
        "            intersection.append(num)\n",
        "    return intersection\n",
        "\n",
        "# Input\n",
        "arr1 = list(map(int, input(\"Enter first array elements: \").split()))\n",
        "arr2 = list(map(int, input(\"Enter second array elements: \").split()))\n",
        "result = array_intersection(arr1, arr2)\n",
        "\n",
        "# Output\n",
        "print(\"Intersection:\", result)\n"
      ],
      "metadata": {
        "colab": {
          "base_uri": "https://localhost:8080/"
        },
        "id": "-ETFSVTvF0_Z",
        "outputId": "d6e94193-7382-40ed-9cfb-f8e53af9f011"
      },
      "execution_count": null,
      "outputs": [
        {
          "output_type": "stream",
          "name": "stdout",
          "text": [
            "Enter first array elements: 1 3 5 7 8\n",
            "Enter second array elements: 8 6 5 3 2\n",
            "Intersection: [3, 5, 8]\n"
          ]
        }
      ]
    },
    {
      "cell_type": "markdown",
      "source": [
        "**Find the Union of Two Arrays**"
      ],
      "metadata": {
        "id": "-mfMJu9EG3lB"
      }
    },
    {
      "cell_type": "code",
      "source": [
        "def array_union(arr1, arr2):\n",
        "    union = arr1  # Copy arr1\n",
        "    for num in arr2:\n",
        "        if num not in union:\n",
        "            union.append(num)\n",
        "    return union\n",
        "\n",
        "# Input\n",
        "arr1 = list(map(int, input(\"Enter first array elements: \").split()))\n",
        "arr2 = list(map(int, input(\"Enter second array elements: \").split()))\n",
        "result = array_union(arr1, arr2)\n",
        "\n",
        "# Output\n",
        "print(\"Union:\", result)\n"
      ],
      "metadata": {
        "colab": {
          "base_uri": "https://localhost:8080/"
        },
        "id": "X2Ni_3-HGKGJ",
        "outputId": "e51c0375-7f9d-4ce8-a8a8-b017c76830be"
      },
      "execution_count": null,
      "outputs": [
        {
          "output_type": "stream",
          "name": "stdout",
          "text": [
            "Enter first array elements: 1 2 3\n",
            "Enter second array elements:  3 4 5\n",
            "Union: [1, 2, 3, 4, 5]\n"
          ]
        }
      ]
    },
    {
      "cell_type": "markdown",
      "source": [
        "**Count the Occurrences of a Character in a String**"
      ],
      "metadata": {
        "id": "9j23dAehH5Ys"
      }
    },
    {
      "cell_type": "code",
      "source": [
        "def count_character(s, char):\n",
        "    count = 0\n",
        "    for c in s:\n",
        "        if c == char:\n",
        "            count += 1\n",
        "    return count\n",
        "\n",
        "# Input\n",
        "s = input(\"Enter a string: \")\n",
        "char = input(\"Enter the character to count: \")\n",
        "count = count_character(s, char)\n",
        "\n",
        "# Output\n",
        "print(f\"Occurrences of '{char}': {count}\")\n"
      ],
      "metadata": {
        "colab": {
          "base_uri": "https://localhost:8080/"
        },
        "id": "O_ZuXJZfG60k",
        "outputId": "27db395e-cd86-489d-e1af-390ead0f5295"
      },
      "execution_count": null,
      "outputs": [
        {
          "output_type": "stream",
          "name": "stdout",
          "text": [
            "Enter a string: ajay\n",
            "Enter the character to count: a\n",
            "Occurrences of 'a': 2\n"
          ]
        }
      ]
    },
    {
      "cell_type": "markdown",
      "source": [
        "**Check if Two Strings are Rotations of Each Other**"
      ],
      "metadata": {
        "id": "3dyb1AWDID15"
      }
    },
    {
      "cell_type": "code",
      "source": [
        "def are_rotations(s1, s2):\n",
        "    if len(s1) != len(s2):\n",
        "        return False\n",
        "    return s2 in s1 + s1\n",
        "\n",
        "# Input\n",
        "s1 = input(\"Enter the first string: \")\n",
        "s2 = input(\"Enter the second string: \")\n",
        "\n",
        "# Output\n",
        "print(f\"Are the strings rotations of each other?\", are_rotations(s1, s2))\n"
      ],
      "metadata": {
        "colab": {
          "base_uri": "https://localhost:8080/"
        },
        "id": "XuHG5d0JH-mb",
        "outputId": "99e017f9-da5f-4b90-9d7a-44c1f24ff51f"
      },
      "execution_count": null,
      "outputs": [
        {
          "output_type": "stream",
          "name": "stdout",
          "text": [
            "Enter the first string: ajay\n",
            "Enter the second string: yaja\n",
            "Are the strings rotations of each other? True\n"
          ]
        }
      ]
    },
    {
      "cell_type": "markdown",
      "source": [
        "**Find the Longest Word in a Sentence**"
      ],
      "metadata": {
        "id": "bkAwZMRgJQn9"
      }
    },
    {
      "cell_type": "code",
      "source": [
        "def find_longest_word(sentence):\n",
        "    words = sentence.split()\n",
        "    longest_word = words[0]\n",
        "    for word in words:\n",
        "        if len(word) > len(longest_word):\n",
        "            longest_word = word\n",
        "    return longest_word\n",
        "\n",
        "# Input\n",
        "sentence = input(\"Enter a sentence: \")\n",
        "longest_word = find_longest_word(sentence)\n",
        "\n",
        "# Output\n",
        "print(\"Longest word:\", longest_word)\n"
      ],
      "metadata": {
        "colab": {
          "base_uri": "https://localhost:8080/"
        },
        "id": "PM9y4pTtIHsF",
        "outputId": "b521a748-e416-40ac-c5ec-d15636180d94"
      },
      "execution_count": null,
      "outputs": [
        {
          "output_type": "stream",
          "name": "stdout",
          "text": [
            "Enter a sentence: my dream to become a software engineer\n",
            "Longest word: software\n"
          ]
        }
      ]
    },
    {
      "cell_type": "markdown",
      "source": [
        "**Generate All Factors of a Number**"
      ],
      "metadata": {
        "id": "LDUmFfW6J-yT"
      }
    },
    {
      "cell_type": "code",
      "source": [
        "def generate_factors(n):\n",
        "    factors = []\n",
        "    for i in range(1, n + 1):\n",
        "        if n % i == 0:\n",
        "            factors.append(i)\n",
        "    return factors\n",
        "\n",
        "# Input\n",
        "n = int(input(\"Enter a number: \"))\n",
        "factors = generate_factors(n)\n",
        "\n",
        "# Output\n",
        "print(f\"Factors of {n}:\", factors)\n"
      ],
      "metadata": {
        "colab": {
          "base_uri": "https://localhost:8080/"
        },
        "id": "HxFRcXX8JWVJ",
        "outputId": "c15984ea-6b2c-4fe6-e12c-b6b70bd5e3c3"
      },
      "execution_count": null,
      "outputs": [
        {
          "output_type": "stream",
          "name": "stdout",
          "text": [
            "Enter a number: 8\n",
            "Factors of 8: [1, 2, 4, 8]\n"
          ]
        }
      ]
    },
    {
      "cell_type": "markdown",
      "source": [
        "**Find the Greatest Common Divisor (GCD)**"
      ],
      "metadata": {
        "id": "LPCykjhfKa3L"
      }
    },
    {
      "cell_type": "markdown",
      "source": [
        "![gcd.jpeg](data:image/jpeg;base64,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)"
      ],
      "metadata": {
        "id": "WccjtnilLZBD"
      }
    },
    {
      "cell_type": "code",
      "source": [
        "def gcd(a, b):\n",
        "    while b != 0:\n",
        "        a, b = b, a % b\n",
        "    return a\n",
        "\n",
        "# Input\n",
        "a = int(input(\"Enter first number: \"))\n",
        "b = int(input(\"Enter second number: \"))\n",
        "result = gcd(a, b)\n",
        "\n",
        "# Output\n",
        "print(f\"GCD of {a} and {b}: {result}\")\n"
      ],
      "metadata": {
        "colab": {
          "base_uri": "https://localhost:8080/"
        },
        "id": "h5r6tAf4KBx2",
        "outputId": "97a73ea6-5bf0-47a8-fcb5-0183e6460c50"
      },
      "execution_count": null,
      "outputs": [
        {
          "output_type": "stream",
          "name": "stdout",
          "text": [
            "Enter first number: 36\n",
            "Enter second number: 60\n",
            "GCD of 36 and 60: 12\n"
          ]
        }
      ]
    },
    {
      "cell_type": "markdown",
      "source": [
        "**Check if a Number is a Perfect Number**"
      ],
      "metadata": {
        "id": "Lto29XoQWx68"
      }
    },
    {
      "cell_type": "markdown",
      "source": [
        "![per.jpg](data:image/jpeg;base64,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)"
      ],
      "metadata": {
        "id": "yikC7nxwW2zr"
      }
    },
    {
      "cell_type": "code",
      "source": [
        "def is_perfect_number(n):\n",
        "    div_sum = 0\n",
        "    for i in range(1, n):\n",
        "        if n % i == 0:\n",
        "            div_sum += i\n",
        "    return div_sum == n\n",
        "\n",
        "# Input\n",
        "n = int(input(\"Enter a number: \"))\n",
        "\n",
        "# Output\n",
        "print(f\"Is {n} a perfect number?\", is_perfect_number(n))\n"
      ],
      "metadata": {
        "id": "UOmoHUaDKd7u",
        "colab": {
          "base_uri": "https://localhost:8080/"
        },
        "outputId": "ef289cd1-5d11-4ba9-90ca-206a52f27c61"
      },
      "execution_count": null,
      "outputs": [
        {
          "output_type": "stream",
          "name": "stdout",
          "text": [
            "Enter a number: 27\n",
            "Is 27 a perfect number? False\n"
          ]
        }
      ]
    },
    {
      "cell_type": "markdown",
      "source": [
        "**Find the Longest Increasing Subsequence**"
      ],
      "metadata": {
        "id": "ukBoTssCYi_x"
      }
    },
    {
      "cell_type": "markdown",
      "source": [
        "![lng.png](data:image/png;base64,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)"
      ],
      "metadata": {
        "id": "w0Tfr15UYygH"
      }
    },
    {
      "cell_type": "code",
      "source": [
        "def longest_increasing_subsequence(arr):\n",
        "    n = len(arr)\n",
        "    dp = [1] * n  # Initialize LIS length for each index as 1\n",
        "    for i in range(1, n):\n",
        "        for j in range(i):\n",
        "            if arr[i] > arr[j]:  # Can extend LIS ending at j\n",
        "                dp[i] = max(dp[i], dp[j] + 1)\n",
        "    return max(dp)  # Maximum value in dp array is the LIS length\n",
        "\n",
        "# Input\n",
        "arr = list(map(int, input(\"Enter array elements separated by space: \").split()))\n",
        "\n",
        "# Output\n",
        "print(\"Length of LIS:\", longest_increasing_subsequence(arr))\n"
      ],
      "metadata": {
        "colab": {
          "base_uri": "https://localhost:8080/"
        },
        "id": "fE9eeCwEXEsu",
        "outputId": "83d0ace8-9be2-4dd7-a4c1-d31ad5ca2863"
      },
      "execution_count": null,
      "outputs": [
        {
          "output_type": "stream",
          "name": "stdout",
          "text": [
            "Enter array elements separated by space: 10 5 2 3 6 2\n",
            "Length of LIS: 3\n"
          ]
        }
      ]
    },
    {
      "cell_type": "markdown",
      "source": [
        "**Multiplication Table**"
      ],
      "metadata": {
        "id": "YZ-VhXkLa8oj"
      }
    },
    {
      "cell_type": "code",
      "source": [
        "def multiplication_table(num, upto):\n",
        "    for i in range(1, upto + 1):\n",
        "        print(f\"{num} x {i} = {num * i}\")\n",
        "\n",
        "# Input\n",
        "num = int(input(\"Enter the number: \"))\n",
        "upto = int(input(\"Enter the range: \"))\n",
        "\n",
        "# Output\n",
        "print(f\"Multiplication Table for {num}:\")\n",
        "multiplication_table(num, upto)\n"
      ],
      "metadata": {
        "colab": {
          "base_uri": "https://localhost:8080/"
        },
        "id": "IqXFsbEPY67x",
        "outputId": "3fce14ba-d002-4659-ae48-61e4652c690e"
      },
      "execution_count": null,
      "outputs": [
        {
          "output_type": "stream",
          "name": "stdout",
          "text": [
            "Enter the number: 7\n",
            "Enter the range: 5\n",
            "Multiplication Table for 7:\n",
            "7 x 1 = 7\n",
            "7 x 2 = 14\n",
            "7 x 3 = 21\n",
            "7 x 4 = 28\n",
            "7 x 5 = 35\n"
          ]
        }
      ]
    },
    {
      "cell_type": "markdown",
      "source": [
        "**LCM Calculation**"
      ],
      "metadata": {
        "id": "ZyfYjSETelz-"
      }
    },
    {
      "cell_type": "markdown",
      "source": [
        "![lcm.png](data:image/png;base64,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)"
      ],
      "metadata": {
        "id": "FKNGM8IoepVK"
      }
    },
    {
      "cell_type": "code",
      "source": [
        "def gcd(a, b):\n",
        "    while b != 0:\n",
        "        a, b = b, a % b\n",
        "    return a\n",
        "\n",
        "def lcm(a, b):\n",
        "    return abs(a * b) // gcd(a, b)\n",
        "\n",
        "# Input\n",
        "a = int(input(\"Enter the first number: \"))\n",
        "b = int(input(\"Enter the second number: \"))\n",
        "\n",
        "# Output\n",
        "print(f\"LCM of {a} and {b} is: {lcm(a, b)}\")\n"
      ],
      "metadata": {
        "colab": {
          "base_uri": "https://localhost:8080/"
        },
        "id": "Xp1JDAzYeoF7",
        "outputId": "075cb081-c86e-472a-bbdc-91bef471264d"
      },
      "execution_count": null,
      "outputs": [
        {
          "output_type": "stream",
          "name": "stdout",
          "text": [
            "Enter the first number: 6\n",
            "Enter the second number: 15\n",
            "LCM of 6 and 15 is: 30\n"
          ]
        }
      ]
    },
    {
      "cell_type": "markdown",
      "source": [
        "**Find All Pairs with a Given Sum**"
      ],
      "metadata": {
        "id": "aur3EBYJ7Qgo"
      }
    },
    {
      "cell_type": "code",
      "source": [
        "def find_pairs(arr, target):\n",
        "    result = []\n",
        "    n = get_length(arr)\n",
        "    for i in range(n):\n",
        "        for j in range(i + 1, n):\n",
        "            if arr[i] + arr[j] == target:\n",
        "                result = add_to_list(result, [arr[i], arr[j]])\n",
        "    return result\n",
        "\n",
        "def add_to_list(arr, val):\n",
        "    n = get_length(arr)\n",
        "    temp = [0] * (n + 1)\n",
        "    for k in range(n):\n",
        "        temp[k] = arr[k]\n",
        "    temp[n] = val\n",
        "    return temp\n",
        "\n",
        "def get_length(arr):\n",
        "    count = 0\n",
        "    for _ in arr:\n",
        "        count += 1\n",
        "    return count\n",
        "\n",
        "print(find_pairs([1, 2, 3, 4, 5], 7))\n"
      ],
      "metadata": {
        "id": "91py_7u4e2KP",
        "colab": {
          "base_uri": "https://localhost:8080/"
        },
        "outputId": "b93cd5d8-e935-4fff-fad8-4211941cddf5"
      },
      "execution_count": null,
      "outputs": [
        {
          "output_type": "stream",
          "name": "stdout",
          "text": [
            "[[2, 5], [3, 4]]\n"
          ]
        }
      ]
    },
    {
      "cell_type": "code",
      "source": [],
      "metadata": {
        "id": "p2qwGeRv7Kul"
      },
      "execution_count": null,
      "outputs": []
    }
  ]
}